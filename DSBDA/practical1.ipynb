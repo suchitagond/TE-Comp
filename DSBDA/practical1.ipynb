{
 "cells": [
  {
   "cell_type": "code",
   "execution_count": 4,
   "id": "3fc7b395-bb4c-46c2-a586-6cd9c945b5cc",
   "metadata": {},
   "outputs": [
    {
     "name": "stdout",
     "output_type": "stream",
     "text": [
      "  gender NationalITy PlaceofBirth     StageID GradeID SectionID Topic  \\\n",
      "0      M          KW       KuwaIT  lowerlevel    G-04         A    IT   \n",
      "1      M          KW       KuwaIT  lowerlevel    G-04         A    IT   \n",
      "2      M          KW       KuwaIT  lowerlevel    G-04         A    IT   \n",
      "3      M          KW       KuwaIT  lowerlevel    G-04         A    IT   \n",
      "4      M          KW       KuwaIT  lowerlevel    G-04         A    IT   \n",
      "\n",
      "  Semester Relation  raisedhands  VisITedResources  AnnouncementsView  \\\n",
      "0        F   Father         15.7              16.0                2.0   \n",
      "1        F   Father         20.0              20.0                3.0   \n",
      "2        F   Father         10.0               NaN                0.0   \n",
      "3        F   Father         30.0              25.0                5.0   \n",
      "4        F   Father         40.0              50.0               12.0   \n",
      "\n",
      "   Discussion ParentAnsweringSurvey ParentschoolSatisfaction  \\\n",
      "0        20.0                   Yes                     Good   \n",
      "1        25.0                   Yes                     Good   \n",
      "2        30.0                    No                      Bad   \n",
      "3        35.0                    No                      Bad   \n",
      "4        50.0                    No                      Bad   \n",
      "\n",
      "  StudentAbsenceDays Class  \n",
      "0            Under-7     M  \n",
      "1            Under-7     M  \n",
      "2            Above-7     L  \n",
      "3            Above-7     L  \n",
      "4            Above-7     M  \n"
     ]
    }
   ],
   "source": [
    "import pandas as pd\n",
    "import matplotlib.pylab as plt\n",
    "import numpy as np\n",
    "\n",
    "df=pd.read_csv('E:\\DSBDA\\edu-data.csv')\n",
    "\n",
    "print(df.head(5))"
   ]
  },
  {
   "cell_type": "code",
   "execution_count": 5,
   "id": "14fe5fcb-2514-4266-adae-c2fc358bb29d",
   "metadata": {},
   "outputs": [
    {
     "name": "stdout",
     "output_type": "stream",
     "text": [
      "    gender NationalITy PlaceofBirth       StageID GradeID SectionID  \\\n",
      "475      F      Jordan       Jordan  MiddleSchool    G-08         A   \n",
      "476      F      Jordan       Jordan  MiddleSchool    G-08         A   \n",
      "477      F      Jordan       Jordan  MiddleSchool    G-08         A   \n",
      "478      F      Jordan       Jordan  MiddleSchool    G-08         A   \n",
      "479      F      Jordan       Jordan  MiddleSchool    G-08         A   \n",
      "\n",
      "         Topic Semester Relation  raisedhands  VisITedResources  \\\n",
      "475  Chemistry        S   Father          5.0               4.0   \n",
      "476    Geology        F   Father         50.0              77.0   \n",
      "477    Geology        S   Father         55.0              74.0   \n",
      "478    History        F   Father         30.0              17.0   \n",
      "479    History        S   Father         35.0              14.0   \n",
      "\n",
      "     AnnouncementsView  Discussion ParentAnsweringSurvey  \\\n",
      "475                5.0         8.0                    No   \n",
      "476               14.0        28.0                    No   \n",
      "477               25.0        29.0                    No   \n",
      "478               14.0        57.0                    No   \n",
      "479               23.0        62.0                    No   \n",
      "\n",
      "    ParentschoolSatisfaction StudentAbsenceDays Class  \n",
      "475                      Bad            Above-7     L  \n",
      "476                      Bad            Under-7     M  \n",
      "477                      Bad            Under-7     M  \n",
      "478                      Bad            Above-7     L  \n",
      "479                      Bad            Above-7     L  \n"
     ]
    }
   ],
   "source": [
    "print(df.tail(5))"
   ]
  },
  {
   "cell_type": "code",
   "execution_count": 6,
   "id": "8b32cefa-381e-47f6-82f2-169d6dc4643d",
   "metadata": {},
   "outputs": [
    {
     "name": "stdout",
     "output_type": "stream",
     "text": [
      "<class 'pandas.core.frame.DataFrame'>\n",
      "RangeIndex: 480 entries, 0 to 479\n",
      "Data columns (total 17 columns):\n",
      " #   Column                    Non-Null Count  Dtype  \n",
      "---  ------                    --------------  -----  \n",
      " 0   gender                    480 non-null    object \n",
      " 1   NationalITy               480 non-null    object \n",
      " 2   PlaceofBirth              480 non-null    object \n",
      " 3   StageID                   480 non-null    object \n",
      " 4   GradeID                   480 non-null    object \n",
      " 5   SectionID                 480 non-null    object \n",
      " 6   Topic                     480 non-null    object \n",
      " 7   Semester                  480 non-null    object \n",
      " 8   Relation                  480 non-null    object \n",
      " 9   raisedhands               468 non-null    float64\n",
      " 10  VisITedResources          470 non-null    float64\n",
      " 11  AnnouncementsView         474 non-null    float64\n",
      " 12  Discussion                477 non-null    float64\n",
      " 13  ParentAnsweringSurvey     480 non-null    object \n",
      " 14  ParentschoolSatisfaction  480 non-null    object \n",
      " 15  StudentAbsenceDays        480 non-null    object \n",
      " 16  Class                     480 non-null    object \n",
      "dtypes: float64(4), object(13)\n",
      "memory usage: 63.9+ KB\n"
     ]
    }
   ],
   "source": [
    "df.info()"
   ]
  },
  {
   "cell_type": "code",
   "execution_count": 7,
   "id": "4e0b70da-27af-441b-84e7-b807848e4f4b",
   "metadata": {},
   "outputs": [
    {
     "name": "stdout",
     "output_type": "stream",
     "text": [
      "       raisedhands  VisITedResources  AnnouncementsView  Discussion\n",
      "count   468.000000        470.000000         474.000000  477.000000\n",
      "mean     46.499359         55.095745          37.955696   43.163522\n",
      "std      33.035488         32.986160          26.696005   27.527879\n",
      "min    -172.000000          0.000000           0.000000    1.000000\n",
      "25%      15.525000         20.000000          14.000000   20.000000\n",
      "50%      50.000000         65.500000          33.000000   39.000000\n",
      "75%      75.000000         84.000000          58.000000   70.000000\n",
      "max     200.000000         99.000000          98.000000   99.000000\n"
     ]
    }
   ],
   "source": [
    "print(df.describe())"
   ]
  },
  {
   "cell_type": "code",
   "execution_count": 8,
   "id": "3c47bb97-91e1-493d-abbc-1e7c95c8edd7",
   "metadata": {},
   "outputs": [
    {
     "name": "stdout",
     "output_type": "stream",
     "text": [
      "gender                       object\n",
      "NationalITy                  object\n",
      "PlaceofBirth                 object\n",
      "StageID                      object\n",
      "GradeID                      object\n",
      "SectionID                    object\n",
      "Topic                        object\n",
      "Semester                     object\n",
      "Relation                     object\n",
      "raisedhands                 float64\n",
      "VisITedResources            float64\n",
      "AnnouncementsView           float64\n",
      "Discussion                  float64\n",
      "ParentAnsweringSurvey        object\n",
      "ParentschoolSatisfaction     object\n",
      "StudentAbsenceDays           object\n",
      "Class                        object\n",
      "dtype: object\n"
     ]
    }
   ],
   "source": [
    "print(df.dtypes)"
   ]
  },
  {
   "cell_type": "code",
   "execution_count": 9,
   "id": "8bd1b5a1-9cd6-4ff2-a1a7-a798a8a26162",
   "metadata": {},
   "outputs": [
    {
     "name": "stdout",
     "output_type": "stream",
     "text": [
      "(480, 17)\n"
     ]
    }
   ],
   "source": [
    "print(df.shape)"
   ]
  },
  {
   "cell_type": "code",
   "execution_count": 32,
   "id": "6916616c-6213-4f1b-b9c8-1e8552f6ed70",
   "metadata": {},
   "outputs": [],
   "source": [
    "df['Discussion']=df['Discussion'].astype(str)"
   ]
  },
  {
   "cell_type": "code",
   "execution_count": 36,
   "id": "e3ba9824-d82e-4966-962f-5db9c2bd76be",
   "metadata": {},
   "outputs": [
    {
     "name": "stdout",
     "output_type": "stream",
     "text": [
      "gender                       object\n",
      "NationalITy                  object\n",
      "PlaceofBirth                 object\n",
      "StageID                      object\n",
      "GradeID                      object\n",
      "SectionID                    object\n",
      "Topic                        object\n",
      "Semester                     object\n",
      "Relation                     object\n",
      "raisedhands                 float64\n",
      "VisITedResources            float64\n",
      "AnnouncementsView           float64\n",
      "Discussion                   object\n",
      "ParentAnsweringSurvey        object\n",
      "ParentschoolSatisfaction     object\n",
      "StudentAbsenceDays           object\n",
      "Class                        object\n",
      "dtype: object\n"
     ]
    }
   ],
   "source": [
    "print(df.dtypes)"
   ]
  },
  {
   "cell_type": "code",
   "execution_count": 37,
   "id": "48d964e9-cc1c-42e8-b13d-2363796e380f",
   "metadata": {},
   "outputs": [],
   "source": [
    "type_map = {\n",
    "    'int64': 'integer',\n",
    "    'float64': 'float',\n",
    "    'object': 'string',\n",
    "    'bool': 'boolean'\n",
    "}"
   ]
  },
  {
   "cell_type": "code",
   "execution_count": 38,
   "id": "70d50051-abb5-47d0-984b-1ea29cbf9b66",
   "metadata": {},
   "outputs": [
    {
     "name": "stdout",
     "output_type": "stream",
     "text": [
      "gender                      string\n",
      "NationalITy                 string\n",
      "PlaceofBirth                string\n",
      "StageID                     string\n",
      "GradeID                     string\n",
      "SectionID                   string\n",
      "Topic                       string\n",
      "Semester                    string\n",
      "Relation                    string\n",
      "raisedhands                  float\n",
      "VisITedResources             float\n",
      "AnnouncementsView            float\n",
      "Discussion                  string\n",
      "ParentAnsweringSurvey       string\n",
      "ParentschoolSatisfaction    string\n",
      "StudentAbsenceDays          string\n",
      "Class                       string\n",
      "Name: Data Types, dtype: object\n"
     ]
    }
   ],
   "source": [
    "print(pd.Series({col: type_map[str(df[col].dtype)] for col in df}, name='Data Types'))"
   ]
  },
  {
   "cell_type": "code",
   "execution_count": 39,
   "id": "bb1b63bb-9f02-432d-9b24-2c552811e228",
   "metadata": {},
   "outputs": [
    {
     "name": "stdout",
     "output_type": "stream",
     "text": [
      "0      M\n",
      "1      M\n",
      "2      M\n",
      "3      M\n",
      "4      M\n",
      "      ..\n",
      "475    F\n",
      "476    F\n",
      "477    F\n",
      "478    F\n",
      "479    F\n",
      "Name: gender, Length: 480, dtype: object\n"
     ]
    }
   ],
   "source": [
    "print(df['gender'])"
   ]
  },
  {
   "cell_type": "code",
   "execution_count": 41,
   "id": "a002c555-9668-47d2-96bb-d019395e6c8a",
   "metadata": {},
   "outputs": [],
   "source": [
    "df['gender'].replace(['M','F'],[0,1],inplace=True)"
   ]
  },
  {
   "cell_type": "code",
   "execution_count": 42,
   "id": "a2169d39-4e01-40a3-a5af-f4fb9ee9e666",
   "metadata": {},
   "outputs": [
    {
     "name": "stdout",
     "output_type": "stream",
     "text": [
      "0      0\n",
      "1      0\n",
      "2      0\n",
      "3      0\n",
      "4      0\n",
      "      ..\n",
      "475    1\n",
      "476    1\n",
      "477    1\n",
      "478    1\n",
      "479    1\n",
      "Name: gender, Length: 480, dtype: int64\n"
     ]
    }
   ],
   "source": [
    "print(df['gender'])"
   ]
  },
  {
   "cell_type": "code",
   "execution_count": 47,
   "id": "81ca2a21-25d7-4a4d-b25d-d3b40706f614",
   "metadata": {},
   "outputs": [],
   "source": [
    "df['raisedhands']=df['raisedhands'].astype(float)"
   ]
  },
  {
   "cell_type": "code",
   "execution_count": 48,
   "id": "6b3f40ea-2b23-47a5-886f-59c12348855b",
   "metadata": {},
   "outputs": [
    {
     "name": "stdout",
     "output_type": "stream",
     "text": [
      "0      15.7\n",
      "1      20.0\n",
      "2      10.0\n",
      "3      30.0\n",
      "4      40.0\n",
      "       ... \n",
      "475     5.0\n",
      "476    50.0\n",
      "477    55.0\n",
      "478    30.0\n",
      "479    35.0\n",
      "Name: raisedhands, Length: 480, dtype: float64\n"
     ]
    }
   ],
   "source": [
    "print(df['raisedhands'])"
   ]
  },
  {
   "cell_type": "code",
   "execution_count": 51,
   "id": "a4ef82aa-1448-483b-b4a8-d86ed33ac920",
   "metadata": {},
   "outputs": [
    {
     "name": "stdout",
     "output_type": "stream",
     "text": [
      "gender                        int64\n",
      "NationalITy                  object\n",
      "PlaceofBirth                 object\n",
      "StageID                      object\n",
      "GradeID                      object\n",
      "SectionID                    object\n",
      "Topic                        object\n",
      "Semester                     object\n",
      "Relation                     object\n",
      "raisedhands                 float64\n",
      "VisITedResources            float64\n",
      "AnnouncementsView           float64\n",
      "Discussion                   object\n",
      "ParentAnsweringSurvey        object\n",
      "ParentschoolSatisfaction     object\n",
      "StudentAbsenceDays           object\n",
      "Class                        object\n",
      "dtype: object\n"
     ]
    }
   ],
   "source": [
    "print(df.dtypes)"
   ]
  },
  {
   "cell_type": "code",
   "execution_count": 61,
   "id": "4857da53-253e-446f-ae5c-0c1a4fadd0c9",
   "metadata": {},
   "outputs": [],
   "source": [
    "# df['raisedhands']=df['raisedhands'].astype(int)\n",
    "df['raisedhands'] = df['raisedhands'].fillna(0).astype(int)"
   ]
  },
  {
   "cell_type": "code",
   "execution_count": 62,
   "id": "ecc098f0-5db6-4649-9b9d-f56748f26319",
   "metadata": {},
   "outputs": [
    {
     "name": "stdout",
     "output_type": "stream",
     "text": [
      "0      15\n",
      "1      20\n",
      "2      10\n",
      "3      30\n",
      "4      40\n",
      "       ..\n",
      "475     5\n",
      "476    50\n",
      "477    55\n",
      "478    30\n",
      "479    35\n",
      "Name: raisedhands, Length: 480, dtype: int32\n"
     ]
    }
   ],
   "source": [
    "print(df['raisedhands'])"
   ]
  },
  {
   "cell_type": "code",
   "execution_count": 63,
   "id": "dad6228d-7d89-4a88-bff6-e8fe5a20c0c7",
   "metadata": {},
   "outputs": [],
   "source": [
    "df['raisedhands'] = pd.to_numeric(df['raisedhands'], downcast='float')"
   ]
  },
  {
   "cell_type": "code",
   "execution_count": 64,
   "id": "0464949e-6fea-4c50-bc10-2cb4ac80ce5f",
   "metadata": {},
   "outputs": [
    {
     "name": "stdout",
     "output_type": "stream",
     "text": [
      "0      15.0\n",
      "1      20.0\n",
      "2      10.0\n",
      "3      30.0\n",
      "4      40.0\n",
      "       ... \n",
      "475     5.0\n",
      "476    50.0\n",
      "477    55.0\n",
      "478    30.0\n",
      "479    35.0\n",
      "Name: raisedhands, Length: 480, dtype: float32\n"
     ]
    }
   ],
   "source": [
    "print(df['raisedhands'])"
   ]
  },
  {
   "cell_type": "code",
   "execution_count": 57,
   "id": "87f1f05c-474d-4208-bdf6-d3fcbf991b7c",
   "metadata": {},
   "outputs": [
    {
     "name": "stdout",
     "output_type": "stream",
     "text": [
      "gender                        int64\n",
      "NationalITy                  object\n",
      "PlaceofBirth                 object\n",
      "StageID                      object\n",
      "GradeID                      object\n",
      "SectionID                    object\n",
      "Topic                        object\n",
      "Semester                     object\n",
      "Relation                     object\n",
      "raisedhands                 float32\n",
      "VisITedResources            float64\n",
      "AnnouncementsView           float64\n",
      "Discussion                   object\n",
      "ParentAnsweringSurvey        object\n",
      "ParentschoolSatisfaction     object\n",
      "StudentAbsenceDays           object\n",
      "Class                        object\n",
      "dtype: object\n"
     ]
    }
   ],
   "source": [
    "print(df.dtypes)"
   ]
  },
  {
   "cell_type": "code",
   "execution_count": 58,
   "id": "bed35ded-294d-4a78-b529-04a561e4cd0a",
   "metadata": {},
   "outputs": [
    {
     "name": "stdout",
     "output_type": "stream",
     "text": [
      "Index(['gender', 'NationalITy', 'PlaceofBirth', 'StageID', 'GradeID',\n",
      "       'SectionID', 'Topic', 'Semester', 'Relation', 'raisedhands',\n",
      "       'VisITedResources', 'AnnouncementsView', 'Discussion',\n",
      "       'ParentAnsweringSurvey', 'ParentschoolSatisfaction',\n",
      "       'StudentAbsenceDays', 'Class'],\n",
      "      dtype='object')\n"
     ]
    }
   ],
   "source": [
    "print(df.columns)"
   ]
  },
  {
   "cell_type": "code",
   "execution_count": null,
   "id": "b750073f-e65d-48b5-8932-9bd1199bd1f2",
   "metadata": {},
   "outputs": [],
   "source": []
  }
 ],
 "metadata": {
  "kernelspec": {
   "display_name": "Python 3 (ipykernel)",
   "language": "python",
   "name": "python3"
  },
  "language_info": {
   "codemirror_mode": {
    "name": "ipython",
    "version": 3
   },
   "file_extension": ".py",
   "mimetype": "text/x-python",
   "name": "python",
   "nbconvert_exporter": "python",
   "pygments_lexer": "ipython3",
   "version": "3.10.2"
  }
 },
 "nbformat": 4,
 "nbformat_minor": 5
}
