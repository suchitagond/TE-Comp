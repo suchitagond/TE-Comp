{
 "cells": [
  {
   "cell_type": "code",
   "execution_count": 35,
   "id": "8fac0a33-7adc-40b3-a8f8-13e8b7233de1",
   "metadata": {},
   "outputs": [
    {
     "name": "stdout",
     "output_type": "stream",
     "text": [
      "  gender NationalITy PlaceofBirth     StageID GradeID SectionID Topic  \\\n",
      "0      M          KW       KuwaIT  lowerlevel    G-04         A    IT   \n",
      "1      M          KW       KuwaIT  lowerlevel    G-04         A    IT   \n",
      "2      M          KW       KuwaIT  lowerlevel    G-04         A    IT   \n",
      "3      M          KW       KuwaIT  lowerlevel    G-04         A    IT   \n",
      "4      M          KW       KuwaIT  lowerlevel    G-04         A    IT   \n",
      "\n",
      "  Semester Relation  raisedhands  VisITedResources  AnnouncementsView  \\\n",
      "0        F   Father         15.7              16.0                2.0   \n",
      "1        F   Father         20.0              20.0                3.0   \n",
      "2        F   Father         10.0               NaN                0.0   \n",
      "3        F   Father         30.0              25.0                5.0   \n",
      "4        F   Father         40.0              50.0               12.0   \n",
      "\n",
      "   Discussion ParentAnsweringSurvey ParentschoolSatisfaction  \\\n",
      "0        20.0                   Yes                     Good   \n",
      "1        25.0                   Yes                     Good   \n",
      "2        30.0                    No                      Bad   \n",
      "3        35.0                    No                      Bad   \n",
      "4        50.0                    No                      Bad   \n",
      "\n",
      "  StudentAbsenceDays Class  \n",
      "0            Under-7     M  \n",
      "1            Under-7     M  \n",
      "2            Above-7     L  \n",
      "3            Above-7     L  \n",
      "4            Above-7     M  \n"
     ]
    }
   ],
   "source": [
    "import pandas as pd\n",
    "import matplotlib.pylab as plt\n",
    "# import matplotlib.pyplot as plt\n",
    "import seaborn as sns\n",
    "import numpy as np\n",
    "\n",
    "df=pd.read_csv('E:\\DSBDA\\edu-data.csv')\n",
    "\n",
    "print(df.head(5))"
   ]
  },
  {
   "cell_type": "code",
   "execution_count": 36,
   "id": "1c87a341-5842-43ca-b10d-09563fbdbce0",
   "metadata": {},
   "outputs": [
    {
     "name": "stdout",
     "output_type": "stream",
     "text": [
      "<class 'pandas.core.frame.DataFrame'>\n",
      "RangeIndex: 480 entries, 0 to 479\n",
      "Data columns (total 17 columns):\n",
      " #   Column                    Non-Null Count  Dtype  \n",
      "---  ------                    --------------  -----  \n",
      " 0   gender                    480 non-null    object \n",
      " 1   NationalITy               480 non-null    object \n",
      " 2   PlaceofBirth              480 non-null    object \n",
      " 3   StageID                   480 non-null    object \n",
      " 4   GradeID                   480 non-null    object \n",
      " 5   SectionID                 480 non-null    object \n",
      " 6   Topic                     480 non-null    object \n",
      " 7   Semester                  480 non-null    object \n",
      " 8   Relation                  480 non-null    object \n",
      " 9   raisedhands               468 non-null    float64\n",
      " 10  VisITedResources          470 non-null    float64\n",
      " 11  AnnouncementsView         474 non-null    float64\n",
      " 12  Discussion                477 non-null    float64\n",
      " 13  ParentAnsweringSurvey     480 non-null    object \n",
      " 14  ParentschoolSatisfaction  480 non-null    object \n",
      " 15  StudentAbsenceDays        480 non-null    object \n",
      " 16  Class                     480 non-null    object \n",
      "dtypes: float64(4), object(13)\n",
      "memory usage: 63.9+ KB\n"
     ]
    }
   ],
   "source": [
    "df.info()"
   ]
  },
  {
   "cell_type": "code",
   "execution_count": 37,
   "id": "599e33ef-5a1e-4eb7-9b92-cf6f6072b56c",
   "metadata": {},
   "outputs": [
    {
     "name": "stdout",
     "output_type": "stream",
     "text": [
      "     gender  NationalITy  PlaceofBirth  StageID  GradeID  SectionID  Topic  \\\n",
      "0     False        False         False    False    False      False  False   \n",
      "1     False        False         False    False    False      False  False   \n",
      "2     False        False         False    False    False      False  False   \n",
      "3     False        False         False    False    False      False  False   \n",
      "4     False        False         False    False    False      False  False   \n",
      "..      ...          ...           ...      ...      ...        ...    ...   \n",
      "475   False        False         False    False    False      False  False   \n",
      "476   False        False         False    False    False      False  False   \n",
      "477   False        False         False    False    False      False  False   \n",
      "478   False        False         False    False    False      False  False   \n",
      "479   False        False         False    False    False      False  False   \n",
      "\n",
      "     Semester  Relation  raisedhands  VisITedResources  AnnouncementsView  \\\n",
      "0       False     False        False             False              False   \n",
      "1       False     False        False             False              False   \n",
      "2       False     False        False              True              False   \n",
      "3       False     False        False             False              False   \n",
      "4       False     False        False             False              False   \n",
      "..        ...       ...          ...               ...                ...   \n",
      "475     False     False        False             False              False   \n",
      "476     False     False        False             False              False   \n",
      "477     False     False        False             False              False   \n",
      "478     False     False        False             False              False   \n",
      "479     False     False        False             False              False   \n",
      "\n",
      "     Discussion  ParentAnsweringSurvey  ParentschoolSatisfaction  \\\n",
      "0         False                  False                     False   \n",
      "1         False                  False                     False   \n",
      "2         False                  False                     False   \n",
      "3         False                  False                     False   \n",
      "4         False                  False                     False   \n",
      "..          ...                    ...                       ...   \n",
      "475       False                  False                     False   \n",
      "476       False                  False                     False   \n",
      "477       False                  False                     False   \n",
      "478       False                  False                     False   \n",
      "479       False                  False                     False   \n",
      "\n",
      "     StudentAbsenceDays  Class  \n",
      "0                 False  False  \n",
      "1                 False  False  \n",
      "2                 False  False  \n",
      "3                 False  False  \n",
      "4                 False  False  \n",
      "..                  ...    ...  \n",
      "475               False  False  \n",
      "476               False  False  \n",
      "477               False  False  \n",
      "478               False  False  \n",
      "479               False  False  \n",
      "\n",
      "[480 rows x 17 columns]\n"
     ]
    }
   ],
   "source": [
    "print(df.isnull())"
   ]
  },
  {
   "cell_type": "code",
   "execution_count": 38,
   "id": "8dd09a5d-5c8a-4af0-a0ad-3d2b51ed9a0d",
   "metadata": {},
   "outputs": [
    {
     "name": "stdout",
     "output_type": "stream",
     "text": [
      "gender                       0\n",
      "NationalITy                  0\n",
      "PlaceofBirth                 0\n",
      "StageID                      0\n",
      "GradeID                      0\n",
      "SectionID                    0\n",
      "Topic                        0\n",
      "Semester                     0\n",
      "Relation                     0\n",
      "raisedhands                 12\n",
      "VisITedResources            10\n",
      "AnnouncementsView            6\n",
      "Discussion                   3\n",
      "ParentAnsweringSurvey        0\n",
      "ParentschoolSatisfaction     0\n",
      "StudentAbsenceDays           0\n",
      "Class                        0\n",
      "dtype: int64\n"
     ]
    }
   ],
   "source": [
    "print(df.isnull().sum())"
   ]
  },
  {
   "cell_type": "code",
   "execution_count": 39,
   "id": "f7f7f933-c43c-47f0-a0d4-49286652f43a",
   "metadata": {},
   "outputs": [
    {
     "name": "stdout",
     "output_type": "stream",
     "text": [
      "Average value:  46.49935897435898\n"
     ]
    }
   ],
   "source": [
    "avg_value=df[\"raisedhands\"].astype(\"float\").mean()\n",
    "print(\"Average value: \",avg_value)"
   ]
  },
  {
   "cell_type": "code",
   "execution_count": 45,
   "id": "23c480d4-8e4d-43ff-9dac-ddc69a0a4488",
   "metadata": {},
   "outputs": [
    {
     "data": {
      "text/plain": [
       "0      15.7\n",
       "1      20.0\n",
       "2      10.0\n",
       "3      30.0\n",
       "4      40.0\n",
       "       ... \n",
       "475     5.0\n",
       "476    50.0\n",
       "477    55.0\n",
       "478    30.0\n",
       "479    35.0\n",
       "Name: raisedhands, Length: 480, dtype: float64"
      ]
     },
     "execution_count": 45,
     "metadata": {},
     "output_type": "execute_result"
    }
   ],
   "source": [
    "# df['raisedhands'].replace(np.nan,avg_value,inplace=True)\n",
    "df['raisedhands'].fillna(avg_value)\n",
    "# df['raisedhands'] = df['raisedhands'].astype(int)"
   ]
  },
  {
   "cell_type": "code",
   "execution_count": 46,
   "id": "f3ca2e15-1f11-4763-b16f-098d8cb6c78f",
   "metadata": {},
   "outputs": [
    {
     "name": "stdout",
     "output_type": "stream",
     "text": [
      "0      15.7\n",
      "1      20.0\n",
      "2      10.0\n",
      "3      30.0\n",
      "4      40.0\n",
      "       ... \n",
      "475     5.0\n",
      "476    50.0\n",
      "477    55.0\n",
      "478    30.0\n",
      "479    35.0\n",
      "Name: raisedhands, Length: 480, dtype: float64\n"
     ]
    }
   ],
   "source": [
    "print(df['raisedhands'])"
   ]
  },
  {
   "cell_type": "code",
   "execution_count": 47,
   "id": "a6bc4d46-7b8d-4173-8e00-3a427e751354",
   "metadata": {},
   "outputs": [
    {
     "name": "stdout",
     "output_type": "stream",
     "text": [
      "gender                       0\n",
      "NationalITy                  0\n",
      "PlaceofBirth                 0\n",
      "StageID                      0\n",
      "GradeID                      0\n",
      "SectionID                    0\n",
      "Topic                        0\n",
      "Semester                     0\n",
      "Relation                     0\n",
      "raisedhands                  0\n",
      "VisITedResources            10\n",
      "AnnouncementsView            6\n",
      "Discussion                   3\n",
      "ParentAnsweringSurvey        0\n",
      "ParentschoolSatisfaction     0\n",
      "StudentAbsenceDays           0\n",
      "Class                        0\n",
      "dtype: int64\n"
     ]
    }
   ],
   "source": [
    "print(df.isnull().sum())"
   ]
  },
  {
   "cell_type": "code",
   "execution_count": 48,
   "id": "c69f4655-41af-4da9-bd1c-4ca499bf9772",
   "metadata": {},
   "outputs": [
    {
     "name": "stdout",
     "output_type": "stream",
     "text": [
      "gender                       0\n",
      "NationalITy                  0\n",
      "PlaceofBirth                 0\n",
      "StageID                      0\n",
      "GradeID                      0\n",
      "SectionID                    0\n",
      "Topic                        0\n",
      "Semester                     0\n",
      "Relation                     0\n",
      "raisedhands                  0\n",
      "VisITedResources            10\n",
      "AnnouncementsView            6\n",
      "Discussion                   0\n",
      "ParentAnsweringSurvey        0\n",
      "ParentschoolSatisfaction     0\n",
      "StudentAbsenceDays           0\n",
      "Class                        0\n",
      "dtype: int64\n"
     ]
    },
    {
     "name": "stderr",
     "output_type": "stream",
     "text": [
      "C:\\Users\\91915\\AppData\\Local\\Temp\\ipykernel_95620\\1380171812.py:1: FutureWarning: A value is trying to be set on a copy of a DataFrame or Series through chained assignment using an inplace method.\n",
      "The behavior will change in pandas 3.0. This inplace method will never work because the intermediate object on which we are setting values always behaves as a copy.\n",
      "\n",
      "For example, when doing 'df[col].method(value, inplace=True)', try using 'df.method({col: value}, inplace=True)' or df[col] = df[col].method(value) instead, to perform the operation inplace on the original object.\n",
      "\n",
      "\n",
      "  df['Discussion'].replace(np.nan,1,inplace=True)\n"
     ]
    }
   ],
   "source": [
    "df['Discussion'].replace(np.nan,1,inplace=True)\n",
    "print(df.isnull().sum())"
   ]
  },
  {
   "cell_type": "code",
   "execution_count": 52,
   "id": "9dee1126-e942-4291-b5c4-70d4a02ce7c6",
   "metadata": {},
   "outputs": [
    {
     "name": "stdout",
     "output_type": "stream",
     "text": [
      "gender                      0\n",
      "NationalITy                 0\n",
      "PlaceofBirth                0\n",
      "StageID                     0\n",
      "GradeID                     0\n",
      "SectionID                   0\n",
      "Topic                       0\n",
      "Semester                    0\n",
      "Relation                    0\n",
      "raisedhands                 0\n",
      "VisITedResources            0\n",
      "AnnouncementsView           0\n",
      "Discussion                  0\n",
      "ParentAnsweringSurvey       0\n",
      "ParentschoolSatisfaction    0\n",
      "StudentAbsenceDays          0\n",
      "Class                       0\n",
      "dtype: int64\n"
     ]
    }
   ],
   "source": [
    "df.dropna(subset=['AnnouncementsView'],inplace=True)\n",
    "df.reset_index(drop=True,inplace=True)\n",
    "print(df.isnull().sum())"
   ]
  },
  {
   "cell_type": "code",
   "execution_count": 54,
   "id": "1bd14f9c-c82a-40e3-b142-badb0ad8182b",
   "metadata": {},
   "outputs": [
    {
     "name": "stdout",
     "output_type": "stream",
     "text": [
      "gender                       object\n",
      "NationalITy                  object\n",
      "PlaceofBirth                 object\n",
      "StageID                      object\n",
      "GradeID                      object\n",
      "SectionID                    object\n",
      "Topic                        object\n",
      "Semester                     object\n",
      "Relation                     object\n",
      "raisedhands                 float64\n",
      "VisITedResources            float64\n",
      "AnnouncementsView           float64\n",
      "Discussion                  float64\n",
      "ParentAnsweringSurvey        object\n",
      "ParentschoolSatisfaction     object\n",
      "StudentAbsenceDays           object\n",
      "Class                        object\n",
      "dtype: object\n"
     ]
    }
   ],
   "source": [
    "print(df.dtypes)"
   ]
  },
  {
   "cell_type": "code",
   "execution_count": 69,
   "id": "787cd79a-ff17-407d-80ec-9596ca97c427",
   "metadata": {},
   "outputs": [
    {
     "data": {
      "text/plain": [
       "<Axes: xlabel='raisedhands'>"
      ]
     },
     "execution_count": 69,
     "metadata": {},
     "output_type": "execute_result"
    },
    {
     "data": {
      "image/png": "[encoded data removed]",
      "text/plain": [
       "<Figure size 640x480 with 1 Axes>"
      ]
     },
     "metadata": {},
     "output_type": "display_data"
    }
   ],
   "source": [
    "sns.boxplot(data=df,x='raisedhands')"
   ]
  },
  {
   "cell_type": "code",
   "execution_count": 100,
   "id": "1e02f6fe-1cae-4a3c-8146-495662a4b382",
   "metadata": {},
   "outputs": [],
   "source": [
    "Q1=df['raisedhands'].quantile(0.25)\n",
    "Q3=df['raisedhands'].quantile(0.75)\n",
    "IQR=Q3-Q1\n",
    "lower_bound = Q1 - 1.5 * IQR\n",
    "upper_bound = Q3 + 1.5 * IQR"
   ]
  },
  {
   "cell_type": "code",
   "execution_count": 79,
   "id": "7293a4d7-2c01-48f9-bf53-2e38d0a2305a",
   "metadata": {},
   "outputs": [
    {
     "name": "stdout",
     "output_type": "stream",
     "text": [
      "    gender NationalITy PlaceofBirth       StageID GradeID SectionID   Topic  \\\n",
      "136      M      Jordan          USA  MiddleSchool    G-07         A   Quran   \n",
      "161      F     Morocco      Morocco    lowerlevel    G-02         B  French   \n",
      "\n",
      "    Semester Relation  raisedhands  VisITedResources  AnnouncementsView  \\\n",
      "136        F      Mum        200.0              85.0               85.0   \n",
      "161        S      Mum       -172.0              65.0               73.0   \n",
      "\n",
      "     Discussion ParentAnsweringSurvey ParentschoolSatisfaction  \\\n",
      "136        70.0                    No                      Bad   \n",
      "161        66.0                   Yes                     Good   \n",
      "\n",
      "    StudentAbsenceDays Class  \n",
      "136            Under-7     M  \n",
      "161            Under-7     H  \n"
     ]
    }
   ],
   "source": [
    "outliers = df[(df['raisedhands'] < lower_bound) | (df['raisedhands'] > upper_bound)]\n",
    "print(outliers)"
   ]
  },
  {
   "cell_type": "code",
   "execution_count": 72,
   "id": "446e0688-d2b3-42db-96ff-ea03c0e55898",
   "metadata": {},
   "outputs": [],
   "source": [
    "cleaned_df = df[(df['raisedhands'] >= lower_bound) & (df['raisedhands'] <= upper_bound)]"
   ]
  },
  {
   "cell_type": "code",
   "execution_count": 80,
   "id": "ae766e3f-faad-46db-ad90-69cb96dc9e66",
   "metadata": {},
   "outputs": [
    {
     "name": "stdout",
     "output_type": "stream",
     "text": [
      "Empty DataFrame\n",
      "Columns: [gender, NationalITy, PlaceofBirth, StageID, GradeID, SectionID, Topic, Semester, Relation, raisedhands, VisITedResources, AnnouncementsView, Discussion, ParentAnsweringSurvey, ParentschoolSatisfaction, StudentAbsenceDays, Class]\n",
      "Index: []\n"
     ]
    }
   ],
   "source": [
    "# print(cleaned_df)\n",
    "outliers = cleaned_df[(cleaned_df['raisedhands'] < lower_bound) | (cleaned_df['raisedhands'] > upper_bound)]\n",
    "print(outliers)"
   ]
  },
  {
   "cell_type": "code",
   "execution_count": 93,
   "id": "bc68c99e-967d-4798-a0e2-dce44936dd9b",
   "metadata": {},
   "outputs": [
    {
     "name": "stdout",
     "output_type": "stream",
     "text": [
      "gender                               M\n",
      "NationalITy                      Tunis\n",
      "PlaceofBirth                     Tunis\n",
      "StageID                     lowerlevel\n",
      "GradeID                           G-02\n",
      "SectionID                            B\n",
      "Topic                           French\n",
      "Semester                             S\n",
      "Relation                           Mum\n",
      "raisedhands                       80.0\n",
      "VisITedResources                  92.0\n",
      "AnnouncementsView                 83.0\n",
      "Discussion                        43.0\n",
      "ParentAnsweringSurvey              Yes\n",
      "ParentschoolSatisfaction          Good\n",
      "StudentAbsenceDays             Under-7\n",
      "Class                                H\n",
      "Name: 163, dtype: object\n"
     ]
    }
   ],
   "source": [
    "print(cleaned_df.iloc[161])"
   ]
  },
  {
   "cell_type": "code",
   "execution_count": 85,
   "id": "ce34abdd-d332-415c-9e7b-1c48033e420d",
   "metadata": {},
   "outputs": [
    {
     "data": {
      "text/plain": [
       "<Axes: xlabel='raisedhands'>"
      ]
     },
     "execution_count": 85,
     "metadata": {},
     "output_type": "execute_result"
    },
    {
     "data": {
      "image/png": "[encoded data removed]",
      "text/plain": [
       "<Figure size 640x480 with 1 Axes>"
      ]
     },
     "metadata": {},
     "output_type": "display_data"
    }
   ],
   "source": [
    "sns.boxplot(data=df,x='raisedhands')"
   ]
  },
  {
   "cell_type": "code",
   "execution_count": 86,
   "id": "a1f6c8c3-7e84-493b-8489-a70ce32f4c17",
   "metadata": {},
   "outputs": [
    {
     "name": "stdout",
     "output_type": "stream",
     "text": [
      "    gender NationalITy PlaceofBirth       StageID GradeID SectionID   Topic  \\\n",
      "136      M      Jordan          USA  MiddleSchool    G-07         A   Quran   \n",
      "161      F     Morocco      Morocco    lowerlevel    G-02         B  French   \n",
      "\n",
      "    Semester Relation  raisedhands  VisITedResources  AnnouncementsView  \\\n",
      "136        F      Mum        200.0              85.0               85.0   \n",
      "161        S      Mum       -172.0              65.0               73.0   \n",
      "\n",
      "     Discussion ParentAnsweringSurvey ParentschoolSatisfaction  \\\n",
      "136        70.0                    No                      Bad   \n",
      "161        66.0                   Yes                     Good   \n",
      "\n",
      "    StudentAbsenceDays Class  \n",
      "136            Under-7     M  \n",
      "161            Under-7     H  \n"
     ]
    }
   ],
   "source": [
    "Q1 = df['raisedhands'].quantile(0.25)\n",
    "Q3 = df['raisedhands'].quantile(0.75)\n",
    "IQR = Q3 - Q1\n",
    "lower_bound = Q1 - 1.5 * IQR\n",
    "upper_bound = Q3 + 1.5 * IQR\n",
    "outliers = df[(df['raisedhands'] < lower_bound) | (df['raisedhands'] > upper_bound)]\n",
    "print(outliers)"
   ]
  },
  {
   "cell_type": "code",
   "execution_count": 87,
   "id": "e6a745c2-2797-4eb3-a589-5e6d3ebae927",
   "metadata": {},
   "outputs": [],
   "source": [
    "df['raisedhands'] = np.where(df['raisedhands'] < lower_bound, lower_bound, df['raisedhands'])\n",
    "df['raisedhands'] = np.where(df['raisedhands'] > upper_bound, upper_bound, df['raisedhands'])"
   ]
  },
  {
   "cell_type": "code",
   "execution_count": 88,
   "id": "82a37abe-6ea7-410b-84a5-c1f3792235e9",
   "metadata": {},
   "outputs": [
    {
     "data": {
      "text/plain": [
       "<Axes: xlabel='raisedhands'>"
      ]
     },
     "execution_count": 88,
     "metadata": {},
     "output_type": "execute_result"
    },
    {
     "data": {
      "image/png": "[encoded data removed]",
      "text/plain": [
       "<Figure size 640x480 with 1 Axes>"
      ]
     },
     "metadata": {},
     "output_type": "display_data"
    }
   ],
   "source": [
    "sns.boxplot(data=df,x='raisedhands')"
   ]
  },
  {
   "cell_type": "code",
   "execution_count": 99,
   "id": "f8013db5-4238-4aff-8004-aeae0ab83410",
   "metadata": {},
   "outputs": [
    {
     "name": "stdout",
     "output_type": "stream",
     "text": [
      "-70.0\n"
     ]
    }
   ],
   "source": [
    "print(df['raisedhands'].iloc[161])"
   ]
  },
  {
   "cell_type": "code",
   "execution_count": 54,
   "id": "8952afb0-99a3-4a61-9b45-aeda07be47b3",
   "metadata": {},
   "outputs": [
    {
     "name": "stdout",
     "output_type": "stream",
     "text": [
      "0       20.0\n",
      "1       30.0\n",
      "2        0.0\n",
      "3       50.0\n",
      "4      120.0\n",
      "       ...  \n",
      "469     50.0\n",
      "470    140.0\n",
      "471    250.0\n",
      "472    140.0\n",
      "473    230.0\n",
      "Name: AnnouncementsView, Length: 474, dtype: float64\n"
     ]
    }
   ],
   "source": [
    "df['AnnouncementsView']=10*df['AnnouncementsView']\n",
    "print(df['AnnouncementsView'])"
   ]
  },
  {
   "cell_type": "code",
   "execution_count": null,
   "id": "dee54423-bdc2-4966-9263-79dc1d596a65",
   "metadata": {},
   "outputs": [],
   "source": []
  },
  {
   "cell_type": "code",
   "execution_count": null,
   "id": "4efc6f6f-0da3-49c6-be44-683c8b7b74fb",
   "metadata": {},
   "outputs": [],
   "source": []
  }
 ],
 "metadata": {
  "kernelspec": {
   "display_name": "Python 3 (ipykernel)",
   "language": "python",
   "name": "python3"
  },
  "language_info": {
   "codemirror_mode": {
    "name": "ipython",
    "version": 3
   },
   "file_extension": ".py",
   "mimetype": "text/x-python",
   "name": "python",
   "nbconvert_exporter": "python",
   "pygments_lexer": "ipython3",
   "version": "3.10.2"
  }
 },
 "nbformat": 4,
 "nbformat_minor": 5
}
